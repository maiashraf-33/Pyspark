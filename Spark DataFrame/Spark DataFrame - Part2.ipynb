{
 "cells": [
  {
   "cell_type": "markdown",
   "metadata": {},
   "source": [
    "**Aggregate functions**"
   ]
  },
  {
   "cell_type": "code",
   "execution_count": 1,
   "metadata": {},
   "outputs": [],
   "source": [
    "import findspark\n",
    "findspark.init()\n",
    "from pyspark.sql import SparkSession"
   ]
  },
  {
   "cell_type": "code",
   "execution_count": 2,
   "metadata": {},
   "outputs": [],
   "source": [
    "spark = SparkSession.builder.getOrCreate()"
   ]
  },
  {
   "cell_type": "code",
   "execution_count": 3,
   "metadata": {},
   "outputs": [],
   "source": [
    "data_path = 'Data\\sf-fire-calls.csv'\n",
    "df1 = spark.read.option('samplingRatio', 0.01)\\\n",
    "                .option('header', 'true')\\\n",
    "                .csv(data_path)"
   ]
  },
  {
   "cell_type": "code",
   "execution_count": 4,
   "metadata": {},
   "outputs": [
    {
     "name": "stdout",
     "output_type": "stream",
     "text": [
      "root\n",
      " |-- CallNumber: string (nullable = true)\n",
      " |-- UnitID: string (nullable = true)\n",
      " |-- IncidentNumber: string (nullable = true)\n",
      " |-- CallType: string (nullable = true)\n",
      " |-- CallDate: string (nullable = true)\n",
      " |-- WatchDate: string (nullable = true)\n",
      " |-- CallFinalDisposition: string (nullable = true)\n",
      " |-- AvailableDtTm: string (nullable = true)\n",
      " |-- Address: string (nullable = true)\n",
      " |-- City: string (nullable = true)\n",
      " |-- Zipcode: string (nullable = true)\n",
      " |-- Battalion: string (nullable = true)\n",
      " |-- StationArea: string (nullable = true)\n",
      " |-- Box: string (nullable = true)\n",
      " |-- OriginalPriority: string (nullable = true)\n",
      " |-- Priority: string (nullable = true)\n",
      " |-- FinalPriority: string (nullable = true)\n",
      " |-- ALSUnit: string (nullable = true)\n",
      " |-- CallTypeGroup: string (nullable = true)\n",
      " |-- NumAlarms: string (nullable = true)\n",
      " |-- UnitType: string (nullable = true)\n",
      " |-- UnitSequenceInCallDispatch: string (nullable = true)\n",
      " |-- FirePreventionDistrict: string (nullable = true)\n",
      " |-- SupervisorDistrict: string (nullable = true)\n",
      " |-- Neighborhood: string (nullable = true)\n",
      " |-- Location: string (nullable = true)\n",
      " |-- RowID: string (nullable = true)\n",
      " |-- Delay: string (nullable = true)\n",
      "\n"
     ]
    }
   ],
   "source": [
    "df1.printSchema()"
   ]
  },
  {
   "cell_type": "code",
   "execution_count": 5,
   "metadata": {},
   "outputs": [
    {
     "name": "stdout",
     "output_type": "stream",
     "text": [
      "+----------+-------------------------------------+-------------+\n",
      "|CallNumber|Location                             |RowID        |\n",
      "+----------+-------------------------------------+-------------+\n",
      "|20110016  |(37.7895840679362, -122.428071912459)|020110016-T13|\n",
      "+----------+-------------------------------------+-------------+\n",
      "\n"
     ]
    }
   ],
   "source": [
    "from pyspark.sql.functions import *\n",
    "\n",
    "df1.select('CallNumber', 'Location', 'RowID')\\\n",
    "   .where(col('CallNumber') == '20110016')\\\n",
    "   .show(5, truncate=False)"
   ]
  },
  {
   "cell_type": "code",
   "execution_count": 6,
   "metadata": {},
   "outputs": [
    {
     "name": "stdout",
     "output_type": "stream",
     "text": [
      "+-----------------+\n",
      "|Distinct_UnitType|\n",
      "+-----------------+\n",
      "|                9|\n",
      "+-----------------+\n",
      "\n"
     ]
    }
   ],
   "source": [
    "df1.select('UnitType')\\\n",
    "   .where(df1['UnitType'] != 'ENGINE')\\\n",
    "   .agg(countDistinct('UnitType').alias('Distinct_UnitType'))\\\n",
    "   .show()"
   ]
  },
  {
   "cell_type": "code",
   "execution_count": 7,
   "metadata": {},
   "outputs": [
    {
     "name": "stdout",
     "output_type": "stream",
     "text": [
      "+--------------+\n",
      "|      UnitType|\n",
      "+--------------+\n",
      "|       AIRPORT|\n",
      "|         MEDIC|\n",
      "|         CHIEF|\n",
      "|  RESCUE SQUAD|\n",
      "|RESCUE CAPTAIN|\n",
      "|         TRUCK|\n",
      "| INVESTIGATION|\n",
      "|        ENGINE|\n",
      "|       SUPPORT|\n",
      "|       PRIVATE|\n",
      "+--------------+\n",
      "\n"
     ]
    }
   ],
   "source": [
    "df1.select('UnitType').distinct().show()\n",
    "# df1.select('UnitType').where(df1['UnitType'].isNotNull()).distinct().show(10,truncate=False)"
   ]
  },
  {
   "cell_type": "code",
   "execution_count": 8,
   "metadata": {},
   "outputs": [
    {
     "name": "stdout",
     "output_type": "stream",
     "text": [
      "+--------------+\n",
      "|     UnitType_|\n",
      "+--------------+\n",
      "|         TRUCK|\n",
      "|         MEDIC|\n",
      "|         MEDIC|\n",
      "|        ENGINE|\n",
      "|         CHIEF|\n",
      "|         TRUCK|\n",
      "|        ENGINE|\n",
      "|        ENGINE|\n",
      "|        ENGINE|\n",
      "|        ENGINE|\n",
      "|         MEDIC|\n",
      "|         TRUCK|\n",
      "|        ENGINE|\n",
      "|        ENGINE|\n",
      "|         CHIEF|\n",
      "|         CHIEF|\n",
      "|        ENGINE|\n",
      "|RESCUE CAPTAIN|\n",
      "|        ENGINE|\n",
      "|         MEDIC|\n",
      "+--------------+\n",
      "only showing top 20 rows\n",
      "\n"
     ]
    }
   ],
   "source": [
    "df1.withColumnRenamed('UnitType', 'UnitType_').select('UnitType_').show()"
   ]
  },
  {
   "cell_type": "code",
   "execution_count": 9,
   "metadata": {},
   "outputs": [
    {
     "name": "stdout",
     "output_type": "stream",
     "text": [
      "+--------------+------------------+\n",
      "|      UnitType|        avg(Delay)|\n",
      "+--------------+------------------+\n",
      "|       AIRPORT| 6.375418990603358|\n",
      "|         MEDIC| 3.702183630021639|\n",
      "|         CHIEF| 3.937236628227981|\n",
      "|  RESCUE SQUAD|3.7178353647933635|\n",
      "|RESCUE CAPTAIN| 6.469999208860462|\n",
      "|         TRUCK|3.7983520445111414|\n",
      "| INVESTIGATION| 34.90993382913908|\n",
      "|        ENGINE|3.7321145478603457|\n",
      "|       SUPPORT| 10.90008075285945|\n",
      "|       PRIVATE| 4.116082512702082|\n",
      "+--------------+------------------+\n",
      "\n"
     ]
    }
   ],
   "source": [
    "df1.groupBy('UnitType')\\\n",
    "   .agg(avg('Delay')).show()"
   ]
  },
  {
   "cell_type": "code",
   "execution_count": 10,
   "metadata": {},
   "outputs": [
    {
     "name": "stdout",
     "output_type": "stream",
     "text": [
      "root\n",
      " |-- CallNumber: string (nullable = true)\n",
      " |-- UnitID: string (nullable = true)\n",
      " |-- IncidentNumber: string (nullable = true)\n",
      " |-- CallType: string (nullable = true)\n",
      " |-- CallDate: timestamp (nullable = true)\n",
      " |-- WatchDate: string (nullable = true)\n",
      " |-- CallFinalDisposition: string (nullable = true)\n",
      " |-- AvailableDtTm: string (nullable = true)\n",
      " |-- Address: string (nullable = true)\n",
      " |-- City: string (nullable = true)\n",
      " |-- Zipcode: string (nullable = true)\n",
      " |-- Battalion: string (nullable = true)\n",
      " |-- StationArea: string (nullable = true)\n",
      " |-- Box: string (nullable = true)\n",
      " |-- OriginalPriority: string (nullable = true)\n",
      " |-- Priority: string (nullable = true)\n",
      " |-- FinalPriority: string (nullable = true)\n",
      " |-- ALSUnit: string (nullable = true)\n",
      " |-- CallTypeGroup: string (nullable = true)\n",
      " |-- NumAlarms: string (nullable = true)\n",
      " |-- UnitType: string (nullable = true)\n",
      " |-- UnitSequenceInCallDispatch: string (nullable = true)\n",
      " |-- FirePreventionDistrict: string (nullable = true)\n",
      " |-- SupervisorDistrict: string (nullable = true)\n",
      " |-- Neighborhood: string (nullable = true)\n",
      " |-- Location: string (nullable = true)\n",
      " |-- RowID: string (nullable = true)\n",
      " |-- Delay: string (nullable = true)\n",
      "\n"
     ]
    }
   ],
   "source": [
    "# Convert dates columns from string to timestamps.\n",
    "# As you can see \"CallDate\" is string type but it worth to be timestamps.\n",
    "df1 = df1.withColumn('CallDate', to_timestamp(df1['CallDate'], 'MM/dd/yyy'))\n",
    "# As noticed it has been changed.\n",
    "df1.printSchema()"
   ]
  },
  {
   "cell_type": "code",
   "execution_count": 11,
   "metadata": {},
   "outputs": [
    {
     "name": "stdout",
     "output_type": "stream",
     "text": [
      "+----+\n",
      "|Year|\n",
      "+----+\n",
      "|2000|\n",
      "|2001|\n",
      "|2002|\n",
      "|2003|\n",
      "|2004|\n",
      "|2005|\n",
      "|2006|\n",
      "|2007|\n",
      "|2008|\n",
      "|2009|\n",
      "|2010|\n",
      "|2011|\n",
      "|2012|\n",
      "|2013|\n",
      "|2014|\n",
      "|2015|\n",
      "|2016|\n",
      "|2017|\n",
      "|2018|\n",
      "+----+\n",
      "\n"
     ]
    }
   ],
   "source": [
    "df1.select(year('CallDate').alias('Year'))\\\n",
    "   .distinct()\\\n",
    "   .orderBy('Year').show()"
   ]
  },
  {
   "cell_type": "code",
   "execution_count": 12,
   "metadata": {},
   "outputs": [
    {
     "name": "stdout",
     "output_type": "stream",
     "text": [
      "+-------------------------------+----------+\n",
      "|CallType                       |Count_type|\n",
      "+-------------------------------+----------+\n",
      "|Medical Incident               |113794    |\n",
      "|Structure Fire                 |23319     |\n",
      "|Alarms                         |19406     |\n",
      "|Traffic Collision              |7013      |\n",
      "|Citizen Assist / Service Call  |2524      |\n",
      "|Other                          |2166      |\n",
      "|Outside Fire                   |2094      |\n",
      "|Vehicle Fire                   |854       |\n",
      "|Gas Leak (Natural and LP Gases)|764       |\n",
      "|Water Rescue                   |755       |\n",
      "|Odor (Strange / Unknown)       |490       |\n",
      "|Electrical Hazard              |482       |\n",
      "|Elevator / Escalator Rescue    |453       |\n",
      "|Smoke Investigation (Outside)  |391       |\n",
      "|Fuel Spill                     |193       |\n",
      "|HazMat                         |124       |\n",
      "|Industrial Accidents           |94        |\n",
      "|Explosion                      |89        |\n",
      "|Train / Rail Incident          |57        |\n",
      "|Aircraft Emergency             |36        |\n",
      "+-------------------------------+----------+\n",
      "only showing top 20 rows\n",
      "\n"
     ]
    }
   ],
   "source": [
    "# To see the most common fire type.\n",
    "df1.select('CallType')\\\n",
    "   .groupBy('CallType')\\\n",
    "   .agg(count('CallType').alias('Count_type'))\\\n",
    "   .orderBy('Count_type', ascending=False).show(truncate=False)"
   ]
  },
  {
   "cell_type": "code",
   "execution_count": 13,
   "metadata": {},
   "outputs": [
    {
     "name": "stdout",
     "output_type": "stream",
     "text": [
      "+-------+-----+\n",
      "|Zipcode|Count|\n",
      "+-------+-----+\n",
      "|  94102|21840|\n",
      "|  94103|20897|\n",
      "|  94110|14801|\n",
      "|  94109|14686|\n",
      "|  94124| 9236|\n",
      "|  94112| 8421|\n",
      "|  94115| 7812|\n",
      "|  94107| 6941|\n",
      "|  94122| 6355|\n",
      "|  94133| 6246|\n",
      "|  94117| 5804|\n",
      "|  94114| 5175|\n",
      "|  94118| 5157|\n",
      "|  94134| 5009|\n",
      "|  94121| 4555|\n",
      "|  94132| 4321|\n",
      "|  94105| 4236|\n",
      "|  94108| 4084|\n",
      "|  94116| 3933|\n",
      "|  94123| 3719|\n",
      "+-------+-----+\n",
      "only showing top 20 rows\n",
      "\n"
     ]
    }
   ],
   "source": [
    "df1.groupBy('Zipcode')\\\n",
    "   .agg(count('Zipcode').alias('Count'))\\\n",
    "   .orderBy('Count', ascending=False).show()"
   ]
  },
  {
   "cell_type": "code",
   "execution_count": 14,
   "metadata": {},
   "outputs": [
    {
     "name": "stdout",
     "output_type": "stream",
     "text": [
      "+--------------------------------------------+--------------+----------+------------------+\n",
      "|CallType                                    |count(Zipcode)|max(Delay)|avg(Delay)        |\n",
      "+--------------------------------------------+--------------+----------+------------------+\n",
      "|Administrative                              |3             |31.983334 |12.261111333333332|\n",
      "|Aircraft Emergency                          |3             |7.75      |3.7731481499999995|\n",
      "|Mutual Aid / Assist Outside Agency          |9             |9.9       |38.416666311111115|\n",
      "|Confined Space / Structure Collapse         |13            |7.2166667 |6.915384576923078 |\n",
      "|Marine Fire                                 |14            |9.883333  |6.928571314285715 |\n",
      "|Suspicious Package                          |15            |9.883333  |6.5766667199999995|\n",
      "|Oil Spill                                   |21            |7.7833333 |4.977777761904761 |\n",
      "|Extrication / Entrapped (Machinery, Vehicle)|28            |9.35      |4.391666678571429 |\n",
      "|Watercraft in Distress                      |28            |9.933333  |6.886904817857143 |\n",
      "|High Angle Rescue                           |32            |9.4       |6.048958375       |\n",
      "|Assist Police                               |35            |9.633333  |26.981903994285712|\n",
      "|Train / Rail Incident                       |57            |8.766666  |16.452046763157895|\n",
      "|Explosion                                   |88            |8.233334  |4.110674168539325 |\n",
      "|Industrial Accidents                        |94            |8.983334  |5.0147163340425545|\n",
      "|HazMat                                      |124           |9.3       |7.527016126612902 |\n",
      "|Fuel Spill                                  |193           |8.583333  |5.49222798238342  |\n",
      "|Smoke Investigation (Outside)               |391           |9.983334  |4.466069897851662 |\n",
      "|Elevator / Escalator Rescue                 |453           |9.75      |4.3378219334878585|\n",
      "|Electrical Hazard                           |482           |9.75      |5.178112038174274 |\n",
      "|Odor (Strange / Unknown)                    |490           |9.9       |4.947959182       |\n",
      "+--------------------------------------------+--------------+----------+------------------+\n",
      "only showing top 20 rows\n",
      "\n"
     ]
    }
   ],
   "source": [
    "df1.groupBy('CallType')\\\n",
    "   .agg(count('Zipcode'), max('Delay'), avg('Delay'))\\\n",
    "   .orderBy(count('Zipcode')).show(truncate=False)"
   ]
  }
 ],
 "metadata": {
  "kernelspec": {
   "display_name": "Python 3",
   "language": "python",
   "name": "python3"
  },
  "language_info": {
   "codemirror_mode": {
    "name": "ipython",
    "version": 3
   },
   "file_extension": ".py",
   "mimetype": "text/x-python",
   "name": "python",
   "nbconvert_exporter": "python",
   "pygments_lexer": "ipython3",
   "version": "3.8.5"
  }
 },
 "nbformat": 4,
 "nbformat_minor": 4
}
