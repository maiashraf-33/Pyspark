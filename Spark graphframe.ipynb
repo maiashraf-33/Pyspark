{
 "cells": [
  {
   "cell_type": "markdown",
   "metadata": {},
   "source": [
    "Notebook Content:\n",
    "- Create spark graphframe.\n",
    "- Graphframe operations.\n",
    "- Motifs finding in GraphFrames.\n",
    "- Subgraph."
   ]
  },
  {
   "cell_type": "code",
   "execution_count": 1,
   "metadata": {},
   "outputs": [],
   "source": [
    "import findspark\n",
    "findspark.init()\n",
    "import pyspark \n",
    "from pyspark.sql import SQLContext\n",
    "from pyspark.sql import SparkSession\n",
    "from graphframes import *"
   ]
  },
  {
   "cell_type": "code",
   "execution_count": 2,
   "metadata": {},
   "outputs": [],
   "source": [
    "# 1) Create graph frame\n",
    "# 2) Make operations on graphframe"
   ]
  },
  {
   "cell_type": "code",
   "execution_count": 3,
   "metadata": {},
   "outputs": [],
   "source": [
    "# You can find ->\n",
    "# in degrees: how many inputs for this node\n",
    "# out degrees: how many outputs for it"
   ]
  },
  {
   "cell_type": "code",
   "execution_count": 4,
   "metadata": {},
   "outputs": [],
   "source": [
    "spark = SparkSession.builder.appName('graphframes').getOrCreate()"
   ]
  },
  {
   "cell_type": "code",
   "execution_count": 5,
   "metadata": {},
   "outputs": [],
   "source": [
    "# prepare for creating a GF\n",
    "data = [('a', 'Alice', 34),\n",
    "        ('b', 'bob', 30),\n",
    "        ('c', 'charlie', 26)]\n",
    "\n",
    "relations = [('a', 'b', 'friend'),\n",
    "             ('b', 'c', 'follow'),\n",
    "             ('c', 'b', 'follow')]"
   ]
  },
  {
   "cell_type": "code",
   "execution_count": 6,
   "metadata": {},
   "outputs": [],
   "source": [
    "vert = spark.createDataFrame(data, ['id', 'name', 'age'])"
   ]
  },
  {
   "cell_type": "code",
   "execution_count": 7,
   "metadata": {},
   "outputs": [],
   "source": [
    "edge = spark.createDataFrame(relations, ['src', 'dst', 'relationshps'])"
   ]
  },
  {
   "cell_type": "code",
   "execution_count": 8,
   "metadata": {},
   "outputs": [],
   "source": [
    "# Actual creating the graphframe\n",
    "# This GF is a lazy\n",
    "graphframe = GraphFrame(vert, edge)"
   ]
  },
  {
   "cell_type": "code",
   "execution_count": 9,
   "metadata": {},
   "outputs": [
    {
     "data": {
      "text/plain": [
       "GraphFrame(v:[id: string, name: string ... 1 more field], e:[src: string, dst: string ... 1 more field])"
      ]
     },
     "execution_count": 9,
     "metadata": {},
     "output_type": "execute_result"
    }
   ],
   "source": [
    "# As a data frame\n",
    "graphframe"
   ]
  },
  {
   "cell_type": "markdown",
   "metadata": {},
   "source": [
    "**Graph operations**"
   ]
  },
  {
   "cell_type": "code",
   "execution_count": 10,
   "metadata": {},
   "outputs": [
    {
     "data": {
      "text/plain": [
       "DataFrame[id: string, inDegree: int]"
      ]
     },
     "execution_count": 10,
     "metadata": {},
     "output_type": "execute_result"
    }
   ],
   "source": [
    "# Also a lazy operation\n",
    "graphframe.inDegrees"
   ]
  },
  {
   "cell_type": "code",
   "execution_count": 11,
   "metadata": {
    "scrolled": true
   },
   "outputs": [
    {
     "name": "stdout",
     "output_type": "stream",
     "text": [
      "+---+--------+\n",
      "| id|inDegree|\n",
      "+---+--------+\n",
      "|  c|       1|\n",
      "|  b|       2|\n",
      "+---+--------+\n",
      "\n"
     ]
    }
   ],
   "source": [
    "# any node its indegrees is zero not displayed \n",
    "graphframe.inDegrees.show()"
   ]
  },
  {
   "cell_type": "code",
   "execution_count": 12,
   "metadata": {},
   "outputs": [],
   "source": [
    "df_in = graphframe.inDegrees"
   ]
  },
  {
   "cell_type": "code",
   "execution_count": 13,
   "metadata": {},
   "outputs": [
    {
     "name": "stdout",
     "output_type": "stream",
     "text": [
      "+---+--------+\n",
      "| id|inDegree|\n",
      "+---+--------+\n",
      "|  b|       2|\n",
      "+---+--------+\n",
      "\n"
     ]
    }
   ],
   "source": [
    "df_in.filter('inDegree>=2').show()"
   ]
  },
  {
   "cell_type": "code",
   "execution_count": 14,
   "metadata": {},
   "outputs": [
    {
     "name": "stdout",
     "output_type": "stream",
     "text": [
      "+---+-------+---+\n",
      "| id|   name|age|\n",
      "+---+-------+---+\n",
      "|  a|  Alice| 34|\n",
      "|  b|    bob| 30|\n",
      "|  c|charlie| 26|\n",
      "+---+-------+---+\n",
      "\n"
     ]
    }
   ],
   "source": [
    "graphframe.vertices.show()"
   ]
  },
  {
   "cell_type": "code",
   "execution_count": 15,
   "metadata": {
    "scrolled": true
   },
   "outputs": [
    {
     "name": "stdout",
     "output_type": "stream",
     "text": [
      "+---+---+------------+\n",
      "|src|dst|relationshps|\n",
      "+---+---+------------+\n",
      "|  a|  b|      friend|\n",
      "|  b|  c|      follow|\n",
      "|  c|  b|      follow|\n",
      "+---+---+------------+\n",
      "\n"
     ]
    }
   ],
   "source": [
    "graphframe.edges.show()"
   ]
  },
  {
   "cell_type": "code",
   "execution_count": 16,
   "metadata": {},
   "outputs": [
    {
     "name": "stdout",
     "output_type": "stream",
     "text": [
      "+---+--------+\n",
      "| id|inDegree|\n",
      "+---+--------+\n",
      "|  c|       1|\n",
      "|  b|       2|\n",
      "+---+--------+\n",
      "\n"
     ]
    }
   ],
   "source": [
    "graphframe.inDegrees.sort('inDegree').show()"
   ]
  },
  {
   "cell_type": "code",
   "execution_count": 17,
   "metadata": {},
   "outputs": [
    {
     "name": "stdout",
     "output_type": "stream",
     "text": [
      "+---+--------+\n",
      "| id|inDegree|\n",
      "+---+--------+\n",
      "|  b|       2|\n",
      "|  c|       1|\n",
      "+---+--------+\n",
      "\n"
     ]
    }
   ],
   "source": [
    "graphframe.inDegrees.sort('id').show()"
   ]
  },
  {
   "cell_type": "markdown",
   "metadata": {},
   "source": [
    "**Motif finding**"
   ]
  },
  {
   "cell_type": "code",
   "execution_count": 18,
   "metadata": {},
   "outputs": [],
   "source": [
    "# New graphframe\n",
    "vert = spark.createDataFrame([('a','Alice',34),\n",
    "                             ('b','Bob',36),\n",
    "                             ('c','Charlie',30),\n",
    "                             ('d','David',29),\n",
    "                             ('e','Esther',32),\n",
    "                             ('f','Fanny',36)],\n",
    "                            [\"id\", \"name\", \"age\"])"
   ]
  },
  {
   "cell_type": "code",
   "execution_count": 19,
   "metadata": {},
   "outputs": [],
   "source": [
    "edg = spark.createDataFrame([('a','e','friend'),\n",
    "                             ('f','b','follow'),\n",
    "                             ('c','e','friend'),\n",
    "                             ('a','b','friend'),\n",
    "                             ('b','c','follow'),\n",
    "                             ('c','b','follow'),\n",
    "                             ('f','c','follow'),\n",
    "                             ('e','f','follow'),\n",
    "                             ('e','d','friend'),\n",
    "                             ('d','a','friend')],\n",
    "                           [\"src\", \"dst\", \"relationship\"])"
   ]
  },
  {
   "cell_type": "code",
   "execution_count": 20,
   "metadata": {},
   "outputs": [],
   "source": [
    "gf = GraphFrame(vert, edg)"
   ]
  },
  {
   "cell_type": "code",
   "execution_count": 21,
   "metadata": {},
   "outputs": [
    {
     "name": "stdout",
     "output_type": "stream",
     "text": [
      "+----------------+--------------+----------------+\n",
      "|              n1|            e1|              n2|\n",
      "+----------------+--------------+----------------+\n",
      "| [e, Esther, 32]|[e, f, follow]|  [f, Fanny, 36]|\n",
      "|[c, Charlie, 30]|[c, e, friend]| [e, Esther, 32]|\n",
      "|  [a, Alice, 34]|[a, e, friend]| [e, Esther, 32]|\n",
      "| [e, Esther, 32]|[e, d, friend]|  [d, David, 29]|\n",
      "|  [f, Fanny, 36]|[f, c, follow]|[c, Charlie, 30]|\n",
      "|    [b, Bob, 36]|[b, c, follow]|[c, Charlie, 30]|\n",
      "|  [f, Fanny, 36]|[f, b, follow]|    [b, Bob, 36]|\n",
      "|[c, Charlie, 30]|[c, b, follow]|    [b, Bob, 36]|\n",
      "|  [a, Alice, 34]|[a, b, friend]|    [b, Bob, 36]|\n",
      "|  [d, David, 29]|[d, a, friend]|  [a, Alice, 34]|\n",
      "+----------------+--------------+----------------+\n",
      "\n"
     ]
    }
   ],
   "source": [
    "# Motif finding: I want to find a pattern in the graph\n",
    "# Find the pattern that goes from one node throught one edge to another node\n",
    "gf.find('(n1)-[e1]->(n2)').show()"
   ]
  },
  {
   "cell_type": "code",
   "execution_count": 22,
   "metadata": {},
   "outputs": [
    {
     "name": "stdout",
     "output_type": "stream",
     "text": [
      "+----------------+--------------+----------------+--------------+----------------+\n",
      "|              n1|            e1|              n2|            e2|              n3|\n",
      "+----------------+--------------+----------------+--------------+----------------+\n",
      "|[c, Charlie, 30]|[c, e, friend]| [e, Esther, 32]|[e, f, follow]|  [f, Fanny, 36]|\n",
      "|  [a, Alice, 34]|[a, e, friend]| [e, Esther, 32]|[e, f, follow]|  [f, Fanny, 36]|\n",
      "|  [f, Fanny, 36]|[f, c, follow]|[c, Charlie, 30]|[c, e, friend]| [e, Esther, 32]|\n",
      "|    [b, Bob, 36]|[b, c, follow]|[c, Charlie, 30]|[c, e, friend]| [e, Esther, 32]|\n",
      "|  [d, David, 29]|[d, a, friend]|  [a, Alice, 34]|[a, e, friend]| [e, Esther, 32]|\n",
      "|[c, Charlie, 30]|[c, e, friend]| [e, Esther, 32]|[e, d, friend]|  [d, David, 29]|\n",
      "|  [a, Alice, 34]|[a, e, friend]| [e, Esther, 32]|[e, d, friend]|  [d, David, 29]|\n",
      "| [e, Esther, 32]|[e, f, follow]|  [f, Fanny, 36]|[f, c, follow]|[c, Charlie, 30]|\n",
      "|  [f, Fanny, 36]|[f, b, follow]|    [b, Bob, 36]|[b, c, follow]|[c, Charlie, 30]|\n",
      "|[c, Charlie, 30]|[c, b, follow]|    [b, Bob, 36]|[b, c, follow]|[c, Charlie, 30]|\n",
      "|  [a, Alice, 34]|[a, b, friend]|    [b, Bob, 36]|[b, c, follow]|[c, Charlie, 30]|\n",
      "| [e, Esther, 32]|[e, f, follow]|  [f, Fanny, 36]|[f, b, follow]|    [b, Bob, 36]|\n",
      "|  [f, Fanny, 36]|[f, c, follow]|[c, Charlie, 30]|[c, b, follow]|    [b, Bob, 36]|\n",
      "|    [b, Bob, 36]|[b, c, follow]|[c, Charlie, 30]|[c, b, follow]|    [b, Bob, 36]|\n",
      "|  [d, David, 29]|[d, a, friend]|  [a, Alice, 34]|[a, b, friend]|    [b, Bob, 36]|\n",
      "| [e, Esther, 32]|[e, d, friend]|  [d, David, 29]|[d, a, friend]|  [a, Alice, 34]|\n",
      "+----------------+--------------+----------------+--------------+----------------+\n",
      "\n"
     ]
    }
   ],
   "source": [
    "m = gf.find('(n1)-[e1]->(n2); (n2)-[e2]->(n3)')\n",
    "m.show()"
   ]
  },
  {
   "cell_type": "code",
   "execution_count": 23,
   "metadata": {
    "scrolled": true
   },
   "outputs": [
    {
     "name": "stdout",
     "output_type": "stream",
     "text": [
      "+---------------+--------------+----------------+--------------+----------------+\n",
      "|             n1|            e1|              n2|            e2|              n3|\n",
      "+---------------+--------------+----------------+--------------+----------------+\n",
      "| [a, Alice, 34]|[a, e, friend]| [e, Esther, 32]|[e, f, follow]|  [f, Fanny, 36]|\n",
      "| [f, Fanny, 36]|[f, c, follow]|[c, Charlie, 30]|[c, e, friend]| [e, Esther, 32]|\n",
      "|   [b, Bob, 36]|[b, c, follow]|[c, Charlie, 30]|[c, e, friend]| [e, Esther, 32]|\n",
      "| [a, Alice, 34]|[a, e, friend]| [e, Esther, 32]|[e, d, friend]|  [d, David, 29]|\n",
      "|[e, Esther, 32]|[e, f, follow]|  [f, Fanny, 36]|[f, c, follow]|[c, Charlie, 30]|\n",
      "| [f, Fanny, 36]|[f, b, follow]|    [b, Bob, 36]|[b, c, follow]|[c, Charlie, 30]|\n",
      "| [a, Alice, 34]|[a, b, friend]|    [b, Bob, 36]|[b, c, follow]|[c, Charlie, 30]|\n",
      "|[e, Esther, 32]|[e, f, follow]|  [f, Fanny, 36]|[f, b, follow]|    [b, Bob, 36]|\n",
      "| [f, Fanny, 36]|[f, c, follow]|[c, Charlie, 30]|[c, b, follow]|    [b, Bob, 36]|\n",
      "|   [b, Bob, 36]|[b, c, follow]|[c, Charlie, 30]|[c, b, follow]|    [b, Bob, 36]|\n",
      "|[e, Esther, 32]|[e, d, friend]|  [d, David, 29]|[d, a, friend]|  [a, Alice, 34]|\n",
      "+---------------+--------------+----------------+--------------+----------------+\n",
      "\n"
     ]
    }
   ],
   "source": [
    "m.filter('n1.age>30').show()"
   ]
  },
  {
   "cell_type": "code",
   "execution_count": 24,
   "metadata": {},
   "outputs": [
    {
     "name": "stdout",
     "output_type": "stream",
     "text": [
      "root\n",
      " |-- n1: struct (nullable = false)\n",
      " |    |-- id: string (nullable = true)\n",
      " |    |-- name: string (nullable = true)\n",
      " |    |-- age: long (nullable = true)\n",
      " |-- e1: struct (nullable = false)\n",
      " |    |-- src: string (nullable = true)\n",
      " |    |-- dst: string (nullable = true)\n",
      " |    |-- relationship: string (nullable = true)\n",
      " |-- n2: struct (nullable = false)\n",
      " |    |-- id: string (nullable = true)\n",
      " |    |-- name: string (nullable = true)\n",
      " |    |-- age: long (nullable = true)\n",
      " |-- e2: struct (nullable = false)\n",
      " |    |-- src: string (nullable = true)\n",
      " |    |-- dst: string (nullable = true)\n",
      " |    |-- relationship: string (nullable = true)\n",
      " |-- n3: struct (nullable = false)\n",
      " |    |-- id: string (nullable = true)\n",
      " |    |-- name: string (nullable = true)\n",
      " |    |-- age: long (nullable = true)\n",
      "\n"
     ]
    }
   ],
   "source": [
    "m.printSchema()"
   ]
  },
  {
   "cell_type": "code",
   "execution_count": 25,
   "metadata": {
    "scrolled": true
   },
   "outputs": [
    {
     "name": "stdout",
     "output_type": "stream",
     "text": [
      "+----------------+----------------+----------------+\n",
      "|              n1|              n2|              n3|\n",
      "+----------------+----------------+----------------+\n",
      "|[c, Charlie, 30]| [e, Esther, 32]|  [f, Fanny, 36]|\n",
      "|  [a, Alice, 34]| [e, Esther, 32]|  [f, Fanny, 36]|\n",
      "|  [f, Fanny, 36]|[c, Charlie, 30]| [e, Esther, 32]|\n",
      "|    [b, Bob, 36]|[c, Charlie, 30]| [e, Esther, 32]|\n",
      "|  [d, David, 29]|  [a, Alice, 34]| [e, Esther, 32]|\n",
      "|[c, Charlie, 30]| [e, Esther, 32]|  [d, David, 29]|\n",
      "|  [a, Alice, 34]| [e, Esther, 32]|  [d, David, 29]|\n",
      "| [e, Esther, 32]|  [f, Fanny, 36]|[c, Charlie, 30]|\n",
      "|  [f, Fanny, 36]|    [b, Bob, 36]|[c, Charlie, 30]|\n",
      "|[c, Charlie, 30]|    [b, Bob, 36]|[c, Charlie, 30]|\n",
      "|  [a, Alice, 34]|    [b, Bob, 36]|[c, Charlie, 30]|\n",
      "| [e, Esther, 32]|  [f, Fanny, 36]|    [b, Bob, 36]|\n",
      "|  [f, Fanny, 36]|[c, Charlie, 30]|    [b, Bob, 36]|\n",
      "|    [b, Bob, 36]|[c, Charlie, 30]|    [b, Bob, 36]|\n",
      "|  [d, David, 29]|  [a, Alice, 34]|    [b, Bob, 36]|\n",
      "| [e, Esther, 32]|  [d, David, 29]|  [a, Alice, 34]|\n",
      "+----------------+----------------+----------------+\n",
      "\n"
     ]
    }
   ],
   "source": [
    "# Show only nodes without edges\n",
    "gf.find('(n1)-[]->(n2); (n2)-[]->(n3)').show()"
   ]
  },
  {
   "cell_type": "code",
   "execution_count": 26,
   "metadata": {},
   "outputs": [
    {
     "name": "stdout",
     "output_type": "stream",
     "text": [
      "+----------------+--------------+----------------+--------------+\n",
      "|              n1|            e1|              n2|            e2|\n",
      "+----------------+--------------+----------------+--------------+\n",
      "|[c, Charlie, 30]|[c, b, follow]|    [b, Bob, 36]|[b, c, follow]|\n",
      "|    [b, Bob, 36]|[b, c, follow]|[c, Charlie, 30]|[c, b, follow]|\n",
      "+----------------+--------------+----------------+--------------+\n",
      "\n"
     ]
    }
   ],
   "source": [
    "gf.find('(n1)-[e1]->(n2); (n2)-[e2]->(n1)').show()"
   ]
  },
  {
   "cell_type": "code",
   "execution_count": 27,
   "metadata": {},
   "outputs": [],
   "source": [
    "# We need to say don't include the reversed relationship this can be done using the below line\n",
    "# gf.find('(n1)-[e1]->(n2); !(n2)-[e1]->(n1)').show()\n",
    "# but this line is going to result an error because we cannot include a condition and it's not state at the same time"
   ]
  },
  {
   "cell_type": "code",
   "execution_count": 28,
   "metadata": {},
   "outputs": [
    {
     "name": "stdout",
     "output_type": "stream",
     "text": [
      "+----------------+--------------+----------------+\n",
      "|              n1|            e1|              n2|\n",
      "+----------------+--------------+----------------+\n",
      "|  [f, Fanny, 36]|[f, b, follow]|    [b, Bob, 36]|\n",
      "|  [a, Alice, 34]|[a, e, friend]| [e, Esther, 32]|\n",
      "| [e, Esther, 32]|[e, f, follow]|  [f, Fanny, 36]|\n",
      "|[c, Charlie, 30]|[c, e, friend]| [e, Esther, 32]|\n",
      "|  [a, Alice, 34]|[a, b, friend]|    [b, Bob, 36]|\n",
      "| [e, Esther, 32]|[e, d, friend]|  [d, David, 29]|\n",
      "|  [f, Fanny, 36]|[f, c, follow]|[c, Charlie, 30]|\n",
      "|  [d, David, 29]|[d, a, friend]|  [a, Alice, 34]|\n",
      "+----------------+--------------+----------------+\n",
      "\n"
     ]
    }
   ],
   "source": [
    "# Solving the last error\n",
    "gf.find('(n1)-[e1]->(n2); !(n2)-[]->(n1)').show()"
   ]
  },
  {
   "cell_type": "code",
   "execution_count": 29,
   "metadata": {},
   "outputs": [
    {
     "name": "stdout",
     "output_type": "stream",
     "text": [
      "+----------------+--------------+---------------+--------------+--------------+\n",
      "|              n1|            e1|             n2|            e2|            n3|\n",
      "+----------------+--------------+---------------+--------------+--------------+\n",
      "|[c, Charlie, 30]|[c, e, friend]|[e, Esther, 32]|[e, f, follow]|[f, Fanny, 36]|\n",
      "|  [a, Alice, 34]|[a, e, friend]|[e, Esther, 32]|[e, f, follow]|[f, Fanny, 36]|\n",
      "|[c, Charlie, 30]|[c, e, friend]|[e, Esther, 32]|[e, d, friend]|[d, David, 29]|\n",
      "|  [a, Alice, 34]|[a, e, friend]|[e, Esther, 32]|[e, d, friend]|[d, David, 29]|\n",
      "+----------------+--------------+---------------+--------------+--------------+\n",
      "\n"
     ]
    }
   ],
   "source": [
    "m.filter('e1.relationship = \"friend\"').filter('n2.age = 32').show()"
   ]
  },
  {
   "cell_type": "markdown",
   "metadata": {},
   "source": [
    "**Subgraph**"
   ]
  },
  {
   "cell_type": "code",
   "execution_count": 30,
   "metadata": {
    "scrolled": true
   },
   "outputs": [
    {
     "name": "stdout",
     "output_type": "stream",
     "text": [
      "+---+-------+---+\n",
      "| id|   name|age|\n",
      "+---+-------+---+\n",
      "|  a|  Alice| 34|\n",
      "|  b|    Bob| 36|\n",
      "|  c|Charlie| 30|\n",
      "|  d|  David| 29|\n",
      "|  e| Esther| 32|\n",
      "|  f|  Fanny| 36|\n",
      "+---+-------+---+\n",
      "\n"
     ]
    }
   ],
   "source": [
    "gf.vertices.show()"
   ]
  },
  {
   "cell_type": "code",
   "execution_count": 31,
   "metadata": {},
   "outputs": [],
   "source": [
    "# Filtering the vertices also force the graph to remove the edges for the removed vertices\n",
    "g1 = gf.filterVertices('age>35')"
   ]
  },
  {
   "cell_type": "code",
   "execution_count": 32,
   "metadata": {},
   "outputs": [
    {
     "name": "stdout",
     "output_type": "stream",
     "text": [
      "+---+-----+---+\n",
      "| id| name|age|\n",
      "+---+-----+---+\n",
      "|  b|  Bob| 36|\n",
      "|  f|Fanny| 36|\n",
      "+---+-----+---+\n",
      "\n"
     ]
    }
   ],
   "source": [
    "g1.vertices.show()"
   ]
  },
  {
   "cell_type": "code",
   "execution_count": 33,
   "metadata": {},
   "outputs": [
    {
     "name": "stdout",
     "output_type": "stream",
     "text": [
      "+---+---+------------+\n",
      "|src|dst|relationship|\n",
      "+---+---+------------+\n",
      "|  f|  b|      follow|\n",
      "+---+---+------------+\n",
      "\n"
     ]
    }
   ],
   "source": [
    "g1.edges.show()"
   ]
  },
  {
   "cell_type": "code",
   "execution_count": 34,
   "metadata": {},
   "outputs": [],
   "source": [
    "# Filter using edges doesn't force removing vertices, so we will find many isolated vertices.\n",
    "# We can see here f is an isolated vertices which has no edges.\n",
    "g2 = gf.filterEdges('relationship=\"friend\"')"
   ]
  },
  {
   "cell_type": "code",
   "execution_count": 35,
   "metadata": {},
   "outputs": [
    {
     "name": "stdout",
     "output_type": "stream",
     "text": [
      "+---+-------+---+\n",
      "| id|   name|age|\n",
      "+---+-------+---+\n",
      "|  a|  Alice| 34|\n",
      "|  b|    Bob| 36|\n",
      "|  c|Charlie| 30|\n",
      "|  d|  David| 29|\n",
      "|  e| Esther| 32|\n",
      "|  f|  Fanny| 36|\n",
      "+---+-------+---+\n",
      "\n"
     ]
    }
   ],
   "source": [
    "g2.vertices.show()"
   ]
  },
  {
   "cell_type": "code",
   "execution_count": 36,
   "metadata": {},
   "outputs": [
    {
     "name": "stdout",
     "output_type": "stream",
     "text": [
      "+---+---+------------+\n",
      "|src|dst|relationship|\n",
      "+---+---+------------+\n",
      "|  a|  e|      friend|\n",
      "|  c|  e|      friend|\n",
      "|  a|  b|      friend|\n",
      "|  e|  d|      friend|\n",
      "|  d|  a|      friend|\n",
      "+---+---+------------+\n",
      "\n"
     ]
    }
   ],
   "source": [
    "g2.edges.show()"
   ]
  },
  {
   "cell_type": "code",
   "execution_count": 37,
   "metadata": {},
   "outputs": [],
   "source": [
    "# Multi Condition\n",
    "g3 = gf.filterVertices('age>30')\\\n",
    "       .filterEdges('relationship=\"friend\"').dropIsolatedVertices()"
   ]
  },
  {
   "cell_type": "code",
   "execution_count": 38,
   "metadata": {},
   "outputs": [
    {
     "name": "stdout",
     "output_type": "stream",
     "text": [
      "+---+------+---+\n",
      "| id|  name|age|\n",
      "+---+------+---+\n",
      "|  e|Esther| 32|\n",
      "|  b|   Bob| 36|\n",
      "|  a| Alice| 34|\n",
      "+---+------+---+\n",
      "\n"
     ]
    }
   ],
   "source": [
    "g3.vertices.show()"
   ]
  },
  {
   "cell_type": "code",
   "execution_count": 39,
   "metadata": {
    "scrolled": true
   },
   "outputs": [
    {
     "name": "stdout",
     "output_type": "stream",
     "text": [
      "+---+---+------------+\n",
      "|src|dst|relationship|\n",
      "+---+---+------------+\n",
      "|  a|  e|      friend|\n",
      "|  a|  b|      friend|\n",
      "+---+---+------------+\n",
      "\n"
     ]
    }
   ],
   "source": [
    "g3.edges.show()"
   ]
  },
  {
   "cell_type": "code",
   "execution_count": 40,
   "metadata": {},
   "outputs": [],
   "source": [
    "# More complex operations\n",
    "df_for_sub_graph = gf.find('(n1)-[e1]->(n2)')\\\n",
    "                     .filter('e1.relationship = \"follow\"')\\\n",
    "                     .filter('n1.age < n2.age')"
   ]
  },
  {
   "cell_type": "code",
   "execution_count": 41,
   "metadata": {},
   "outputs": [
    {
     "name": "stdout",
     "output_type": "stream",
     "text": [
      "+----------------+--------------+--------------+\n",
      "|              n1|            e1|            n2|\n",
      "+----------------+--------------+--------------+\n",
      "| [e, Esther, 32]|[e, f, follow]|[f, Fanny, 36]|\n",
      "|[c, Charlie, 30]|[c, b, follow]|  [b, Bob, 36]|\n",
      "+----------------+--------------+--------------+\n",
      "\n"
     ]
    }
   ],
   "source": [
    "df_for_sub_graph.show()"
   ]
  },
  {
   "cell_type": "code",
   "execution_count": 42,
   "metadata": {},
   "outputs": [],
   "source": [
    "# Now we need to reconstruct a new graph out of this dataframe.\n",
    "# So to build a graph frame we need vertices and edges.\n",
    "edges = df_for_sub_graph.select('e1.src', 'e1.dst', 'e1.relationship')\n",
    "new_gf_sub = GraphFrame(gf.vertices, edges).dropIsolatedVertices()"
   ]
  },
  {
   "cell_type": "code",
   "execution_count": 43,
   "metadata": {},
   "outputs": [
    {
     "name": "stdout",
     "output_type": "stream",
     "text": [
      "+---+-------+---+\n",
      "| id|   name|age|\n",
      "+---+-------+---+\n",
      "|  f|  Fanny| 36|\n",
      "|  e| Esther| 32|\n",
      "|  c|Charlie| 30|\n",
      "|  b|    Bob| 36|\n",
      "+---+-------+---+\n",
      "\n"
     ]
    }
   ],
   "source": [
    "new_gf_sub.vertices.show()"
   ]
  },
  {
   "cell_type": "code",
   "execution_count": 44,
   "metadata": {
    "scrolled": false
   },
   "outputs": [
    {
     "name": "stdout",
     "output_type": "stream",
     "text": [
      "+---+---+------------+\n",
      "|src|dst|relationship|\n",
      "+---+---+------------+\n",
      "|  e|  f|      follow|\n",
      "|  c|  b|      follow|\n",
      "+---+---+------------+\n",
      "\n"
     ]
    }
   ],
   "source": [
    "new_gf_sub.edges.show()"
   ]
  },
  {
   "cell_type": "code",
   "execution_count": 45,
   "metadata": {},
   "outputs": [],
   "source": [
    "# Save our vertices and edges to re-create our graphframe later.\n",
    "new_gf_sub.vertices.write.parquet('vertices')\n",
    "new_gf_sub.edges.write.parquet('edges')"
   ]
  }
 ],
 "metadata": {
  "kernelspec": {
   "display_name": "Python 3",
   "language": "python",
   "name": "python3"
  },
  "language_info": {
   "codemirror_mode": {
    "name": "ipython",
    "version": 3
   },
   "file_extension": ".py",
   "mimetype": "text/x-python",
   "name": "python",
   "nbconvert_exporter": "python",
   "pygments_lexer": "ipython3",
   "version": "3.8.5"
  }
 },
 "nbformat": 4,
 "nbformat_minor": 4
}
